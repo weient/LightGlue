{
 "cells": [
  {
   "cell_type": "code",
   "execution_count": 1,
   "metadata": {},
   "outputs": [],
   "source": [
    "# If we are on colab: this clones the repo and installs the dependencies\n",
    "from pathlib import Path\n",
    "# if Path.cwd().name != 'LightGlue':\n",
    "#   !git clone --quiet https://github.com/cvg/LightGlue/\n",
    "#   %cd LightGlue\n",
    "#   !pip install --progress-bar off --quiet -e .\n",
    "import importlib\n",
    "from lightglue import LightGlue, SuperPoint, DISK\n",
    "from lightglue.utils import load_image, rbd\n",
    "from lightglue import viz2d\n",
    "import os\n",
    "os.environ['CUDA_VISIBLE_DEVICES'] = '1'\n",
    "import torch\n",
    "import torch.nn.functional as F\n",
    "\n",
    "torch.set_grad_enabled(False)\n",
    "images = Path('assets')\n",
    "%load_ext autoreload\n",
    "%autoreload 2"
   ]
  },
  {
   "cell_type": "code",
   "execution_count": 2,
   "metadata": {},
   "outputs": [],
   "source": [
    "os.environ['CUDA_VISIBLE_DEVICES'] = '1'\n",
    "device = torch.device('cuda' if torch.cuda.is_available() else 'cpu')  # 'mps', 'cpu'\n",
    "# importlib.reload(LightGlue)\n",
    "\n",
    "extractor = SuperPoint(max_num_keypoints=2048).eval().to(device)  # load the extractor\n",
    "matcher = LightGlue(features='superpoint').eval().to(device)"
   ]
  },
  {
   "cell_type": "code",
   "execution_count": 3,
   "metadata": {},
   "outputs": [
    {
     "name": "stdout",
     "output_type": "stream",
     "text": [
      "torch.Size([3, 682, 1024])\n"
     ]
    }
   ],
   "source": [
    "image0 = load_image(images / 'DSC_0411.JPG')\n",
    "image1 = load_image(images / 'DSC_0410.JPG')\n",
    "print(image0.shape)\n",
    "\n",
    "feats0 = extractor.extract(image0.to(device))\n",
    "feats1 = extractor.extract(image1.to(device))"
   ]
  },
  {
   "cell_type": "code",
   "execution_count": 4,
   "metadata": {},
   "outputs": [
    {
     "name": "stdout",
     "output_type": "stream",
     "text": [
      "torch.Size([3, 682, 1024])\n"
     ]
    }
   ],
   "source": [
    "print(image0.shape)"
   ]
  },
  {
   "cell_type": "code",
   "execution_count": 5,
   "metadata": {},
   "outputs": [],
   "source": [
    "from torchrl.modules import MLP\n",
    "from torch import nn\n",
    "\n",
    "class MLP_module(nn.Module):\n",
    "    def __init__(self):\n",
    "        super().__init__()\n",
    "        self.MLP = MLP(in_features=256, out_features=3, num_cells=[128, 64, 32, 16])\n",
    "        self.MLP_de = MLP(in_features=3, out_features=256, num_cells=[16, 32, 64, 128])\n",
    "    def forward(self, desc0: torch.Tensor, desc1: torch.Tensor):\n",
    "        desc0_mlp = self.MLP(desc0)\n",
    "        desc1_mlp = self.MLP(desc1)\n",
    "        desc0_back = self.MLP_de(desc0_mlp)\n",
    "        desc1_back = self.MLP_de(desc1_mlp)\n",
    "        return desc0_mlp, desc1_mlp\n",
    "\n",
    "model = MLP_module().to(device)\n",
    "checkpoint = torch.load(\"/mnt/home_6T/public/koki/MLP_data/MLP_checkpoint/model_20231212_171923_7\")\n",
    "\n",
    "model.load_state_dict(checkpoint)\n",
    "\n",
    "feats0['descriptors'] , feats1['descriptors'] = model(feats0['descriptors'],feats1['descriptors'])"
   ]
  },
  {
   "cell_type": "code",
   "execution_count": 6,
   "metadata": {},
   "outputs": [
    {
     "name": "stdout",
     "output_type": "stream",
     "text": [
      "tensor([[[ 0.0797,  0.6430,  0.3348],\n",
      "         [ 0.2118, -1.3800, -2.4669],\n",
      "         [-0.0219, -0.5547, -0.0225],\n",
      "         ...,\n",
      "         [-0.5071, -1.5036, -0.8785],\n",
      "         [ 0.3146,  1.2901, -1.3160],\n",
      "         [-0.8707, -0.4054, -2.6474]]], device='cuda:0')\n"
     ]
    }
   ],
   "source": [
    "print(feats0['descriptors'])"
   ]
  },
  {
   "cell_type": "code",
   "execution_count": 15,
   "metadata": {},
   "outputs": [],
   "source": [
    "from Transformer_model import myGlue\n",
    "matcher = myGlue().to(device)\n",
    "matches01 = matcher({\"image0\": feats0, \"image1\": feats1})"
   ]
  },
  {
   "cell_type": "code",
   "execution_count": 16,
   "metadata": {},
   "outputs": [
    {
     "data": {
      "text/plain": [
       "6"
      ]
     },
     "execution_count": 16,
     "metadata": {},
     "output_type": "execute_result"
    }
   ],
   "source": [
    "matches01['stop']"
   ]
  }
 ],
 "metadata": {
  "kernelspec": {
   "display_name": "pts",
   "language": "python",
   "name": "python3"
  },
  "language_info": {
   "codemirror_mode": {
    "name": "ipython",
    "version": 3
   },
   "file_extension": ".py",
   "mimetype": "text/x-python",
   "name": "python",
   "nbconvert_exporter": "python",
   "pygments_lexer": "ipython3",
   "version": "3.8.18"
  }
 },
 "nbformat": 4,
 "nbformat_minor": 2
}
